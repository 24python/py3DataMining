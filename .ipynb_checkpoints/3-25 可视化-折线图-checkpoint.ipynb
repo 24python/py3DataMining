{
 "cells": [
  {
   "cell_type": "code",
   "execution_count": 1,
   "metadata": {
    "collapsed": true
   },
   "outputs": [],
   "source": [
    "import pandas as pd\n",
    "\n",
    "import numpy as np\n",
    "\n",
    "df = pd.read_csv('data/HR.csv')\n",
    "df = df.dropna()\n",
    "import seaborn as sns\n",
    "import matplotlib.pyplot as plt \n",
    "%matplotlib inline"
   ]
  },
  {
   "cell_type": "code",
   "execution_count": 4,
   "metadata": {},
   "outputs": [
    {
     "data": {
      "text/html": [
       "<div>\n",
       "<style>\n",
       "    .dataframe thead tr:only-child th {\n",
       "        text-align: right;\n",
       "    }\n",
       "\n",
       "    .dataframe thead th {\n",
       "        text-align: left;\n",
       "    }\n",
       "\n",
       "    .dataframe tbody tr th {\n",
       "        vertical-align: top;\n",
       "    }\n",
       "</style>\n",
       "<table border=\"1\" class=\"dataframe\">\n",
       "  <thead>\n",
       "    <tr style=\"text-align: right;\">\n",
       "      <th></th>\n",
       "      <th>satisfaction_level</th>\n",
       "      <th>last_evaluation</th>\n",
       "      <th>number_project</th>\n",
       "      <th>average_monthly_hours</th>\n",
       "      <th>Work_accident</th>\n",
       "      <th>left</th>\n",
       "      <th>promotion_last_5years</th>\n",
       "    </tr>\n",
       "    <tr>\n",
       "      <th>time_spend_company</th>\n",
       "      <th></th>\n",
       "      <th></th>\n",
       "      <th></th>\n",
       "      <th></th>\n",
       "      <th></th>\n",
       "      <th></th>\n",
       "      <th></th>\n",
       "    </tr>\n",
       "  </thead>\n",
       "  <tbody>\n",
       "    <tr>\n",
       "      <th>2</th>\n",
       "      <td>0.697079</td>\n",
       "      <td>0.717498</td>\n",
       "      <td>3.686903</td>\n",
       "      <td>200.120185</td>\n",
       "      <td>0.171957</td>\n",
       "      <td>0.016641</td>\n",
       "      <td>0.016641</td>\n",
       "    </tr>\n",
       "    <tr>\n",
       "      <th>3</th>\n",
       "      <td>0.626314</td>\n",
       "      <td>0.668721</td>\n",
       "      <td>3.327798</td>\n",
       "      <td>186.632935</td>\n",
       "      <td>0.138910</td>\n",
       "      <td>0.246159</td>\n",
       "      <td>0.020798</td>\n",
       "    </tr>\n",
       "    <tr>\n",
       "      <th>4</th>\n",
       "      <td>0.467517</td>\n",
       "      <td>0.767927</td>\n",
       "      <td>4.627689</td>\n",
       "      <td>223.455221</td>\n",
       "      <td>0.124364</td>\n",
       "      <td>0.348064</td>\n",
       "      <td>0.013688</td>\n",
       "    </tr>\n",
       "    <tr>\n",
       "      <th>5</th>\n",
       "      <td>0.610305</td>\n",
       "      <td>0.813666</td>\n",
       "      <td>4.519348</td>\n",
       "      <td>222.978955</td>\n",
       "      <td>0.116090</td>\n",
       "      <td>0.565513</td>\n",
       "      <td>0.011541</td>\n",
       "    </tr>\n",
       "    <tr>\n",
       "      <th>6</th>\n",
       "      <td>0.603440</td>\n",
       "      <td>0.754875</td>\n",
       "      <td>4.213092</td>\n",
       "      <td>212.051532</td>\n",
       "      <td>0.149025</td>\n",
       "      <td>0.291086</td>\n",
       "      <td>0.023677</td>\n",
       "    </tr>\n",
       "    <tr>\n",
       "      <th>7</th>\n",
       "      <td>0.635957</td>\n",
       "      <td>0.682766</td>\n",
       "      <td>3.851064</td>\n",
       "      <td>200.744681</td>\n",
       "      <td>0.138298</td>\n",
       "      <td>0.000000</td>\n",
       "      <td>0.191489</td>\n",
       "    </tr>\n",
       "    <tr>\n",
       "      <th>8</th>\n",
       "      <td>0.665062</td>\n",
       "      <td>0.711975</td>\n",
       "      <td>3.777778</td>\n",
       "      <td>193.802469</td>\n",
       "      <td>0.271605</td>\n",
       "      <td>0.000000</td>\n",
       "      <td>0.061728</td>\n",
       "    </tr>\n",
       "    <tr>\n",
       "      <th>10</th>\n",
       "      <td>0.655327</td>\n",
       "      <td>0.731495</td>\n",
       "      <td>3.682243</td>\n",
       "      <td>199.224299</td>\n",
       "      <td>0.233645</td>\n",
       "      <td>0.000000</td>\n",
       "      <td>0.074766</td>\n",
       "    </tr>\n",
       "  </tbody>\n",
       "</table>\n",
       "</div>"
      ],
      "text/plain": [
       "                    satisfaction_level  last_evaluation  number_project  \\\n",
       "time_spend_company                                                        \n",
       "2                             0.697079         0.717498        3.686903   \n",
       "3                             0.626314         0.668721        3.327798   \n",
       "4                             0.467517         0.767927        4.627689   \n",
       "5                             0.610305         0.813666        4.519348   \n",
       "6                             0.603440         0.754875        4.213092   \n",
       "7                             0.635957         0.682766        3.851064   \n",
       "8                             0.665062         0.711975        3.777778   \n",
       "10                            0.655327         0.731495        3.682243   \n",
       "\n",
       "                    average_monthly_hours  Work_accident      left  \\\n",
       "time_spend_company                                                   \n",
       "2                              200.120185       0.171957  0.016641   \n",
       "3                              186.632935       0.138910  0.246159   \n",
       "4                              223.455221       0.124364  0.348064   \n",
       "5                              222.978955       0.116090  0.565513   \n",
       "6                              212.051532       0.149025  0.291086   \n",
       "7                              200.744681       0.138298  0.000000   \n",
       "8                              193.802469       0.271605  0.000000   \n",
       "10                             199.224299       0.233645  0.000000   \n",
       "\n",
       "                    promotion_last_5years  \n",
       "time_spend_company                         \n",
       "2                                0.016641  \n",
       "3                                0.020798  \n",
       "4                                0.013688  \n",
       "5                                0.011541  \n",
       "6                                0.023677  \n",
       "7                                0.191489  \n",
       "8                                0.061728  \n",
       "10                               0.074766  "
      ]
     },
     "execution_count": 4,
     "metadata": {},
     "output_type": "execute_result"
    }
   ],
   "source": [
    "sub_df = df.groupby(\"time_spend_company\").mean()\n",
    "sub_df"
   ]
  },
  {
   "cell_type": "code",
   "execution_count": 3,
   "metadata": {},
   "outputs": [
    {
     "data": {
      "text/plain": [
       "<matplotlib.axes._subplots.AxesSubplot at 0x20d8168f2e8>"
      ]
     },
     "execution_count": 3,
     "metadata": {},
     "output_type": "execute_result"
    },
    {
     "data": {
      "image/png": "[encoded data removed]",
      "text/plain": [
       "<matplotlib.figure.Figure at 0x20d8168e3c8>"
      ]
     },
     "metadata": {},
     "output_type": "display_data"
    }
   ],
   "source": [
    "sns.pointplot(sub_df.index, sub_df[\"left\"])"
   ]
  },
  {
   "cell_type": "code",
   "execution_count": 5,
   "metadata": {},
   "outputs": [
    {
     "data": {
      "text/plain": [
       "<matplotlib.axes._subplots.AxesSubplot at 0x20d81606358>"
      ]
     },
     "execution_count": 5,
     "metadata": {},
     "output_type": "execute_result"
    },
    {
     "data": {
      "image/png": "[encoded data removed]",
      "text/plain": [
       "<matplotlib.figure.Figure at 0x20dfc2420f0>"
      ]
     },
     "metadata": {},
     "output_type": "display_data"
    }
   ],
   "source": [
    "sns.pointplot(x='time_spend_company',y='left',data=df)"
   ]
  }
 ],
 "metadata": {
  "kernelspec": {
   "display_name": "Python 3",
   "language": "python",
   "name": "python3"
  },
  "language_info": {
   "codemirror_mode": {
    "name": "ipython",
    "version": 3
   },
   "file_extension": ".py",
   "mimetype": "text/x-python",
   "name": "python",
   "nbconvert_exporter": "python",
   "pygments_lexer": "ipython3",
   "version": "3.6.3"
  }
 },
 "nbformat": 4,
 "nbformat_minor": 2
}
