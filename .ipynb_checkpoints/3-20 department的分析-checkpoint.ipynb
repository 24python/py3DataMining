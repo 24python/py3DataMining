{
 "cells": [
  {
   "cell_type": "code",
   "execution_count": 35,
   "metadata": {},
   "outputs": [
    {
     "name": "stdout",
     "output_type": "stream",
     "text": [
      "   satisfaction_level  last_evaluation  number_project  average_monthly_hours  \\\n",
      "0                0.38             0.53               2                    157   \n",
      "1                0.80             0.86               5                    262   \n",
      "2                0.11             0.88               7                    272   \n",
      "3                0.72             0.87               5                    223   \n",
      "4                0.37             0.52               2                    159   \n",
      "\n",
      "   time_spend_company  Work_accident  left  promotion_last_5years department  \\\n",
      "0                   3              0     1                      0      sales   \n",
      "1                   6              0     1                      0      sales   \n",
      "2                   4              0     1                      0      sales   \n",
      "3                   5              0     1                      0      sales   \n",
      "4                   3              0     1                      0      sales   \n",
      "\n",
      "   salary  \n",
      "0     low  \n",
      "1  medium  \n",
      "2  medium  \n",
      "3     low  \n",
      "4     low  \n"
     ]
    }
   ],
   "source": [
    "import pandas as pd\n",
    "\n",
    "import numpy as np\n",
    "\n",
    "df = pd.read_csv('data/HR.csv')\n",
    "\n",
    "print(df.head(5))\n",
    "\n",
    "de_s = df['department']"
   ]
  },
  {
   "cell_type": "code",
   "execution_count": 36,
   "metadata": {},
   "outputs": [
    {
     "data": {
      "text/plain": [
       "sales          0.275963\n",
       "technical      0.181309\n",
       "support        0.148647\n",
       "IT             0.081789\n",
       "product_mng    0.060125\n",
       "marketing      0.057192\n",
       "RandD          0.052460\n",
       "accounting     0.051127\n",
       "hr             0.049260\n",
       "management     0.041994\n",
       "sale           0.000133\n",
       "Name: department, dtype: float64"
      ]
     },
     "execution_count": 36,
     "metadata": {},
     "output_type": "execute_result"
    }
   ],
   "source": [
    "de_s.value_counts(normalize=True)"
   ]
  },
  {
   "cell_type": "markdown",
   "metadata": {},
   "source": [
    "这里的sales我们可以认为是录入错误，直接将其转换为sales，也可以直接清除掉。"
   ]
  },
  {
   "cell_type": "code",
   "execution_count": 37,
   "metadata": {},
   "outputs": [],
   "source": [
    "de_s = de_s.where(de_s!=\"sale\").fillna(\"sales\")"
   ]
  },
  {
   "cell_type": "code",
   "execution_count": 38,
   "metadata": {},
   "outputs": [
    {
     "data": {
      "text/plain": [
       "0             sales\n",
       "1             sales\n",
       "2             sales\n",
       "3             sales\n",
       "4             sales\n",
       "5             sales\n",
       "6             sales\n",
       "7             sales\n",
       "8             sales\n",
       "9             sales\n",
       "10            sales\n",
       "11            sales\n",
       "12            sales\n",
       "13            sales\n",
       "14            sales\n",
       "15            sales\n",
       "16            sales\n",
       "17            sales\n",
       "18            sales\n",
       "19            sales\n",
       "20            sales\n",
       "21            sales\n",
       "22            sales\n",
       "23            sales\n",
       "24            sales\n",
       "25            sales\n",
       "26            sales\n",
       "27            sales\n",
       "28       accounting\n",
       "29       accounting\n",
       "            ...    \n",
       "14972    accounting\n",
       "14973    accounting\n",
       "14974    accounting\n",
       "14975            hr\n",
       "14976            hr\n",
       "14977            hr\n",
       "14978            hr\n",
       "14979     technical\n",
       "14980     technical\n",
       "14981     technical\n",
       "14982     technical\n",
       "14983     technical\n",
       "14984     technical\n",
       "14985     technical\n",
       "14986     technical\n",
       "14987     technical\n",
       "14988     technical\n",
       "14989     technical\n",
       "14990       support\n",
       "14991       support\n",
       "14992       support\n",
       "14993       support\n",
       "14994       support\n",
       "14995       support\n",
       "14996       support\n",
       "14997       support\n",
       "14998       support\n",
       "14999       support\n",
       "15000         sales\n",
       "15001         sales\n",
       "Name: department, Length: 15002, dtype: object"
      ]
     },
     "execution_count": 38,
     "metadata": {},
     "output_type": "execute_result"
    }
   ],
   "source": [
    "de_s"
   ]
  },
  {
   "cell_type": "markdown",
   "metadata": {},
   "source": [
    "将异常值通过where转换为nan，然后通过fillna填充。"
   ]
  }
 ],
 "metadata": {
  "kernelspec": {
   "display_name": "Python 3",
   "language": "python",
   "name": "python3"
  },
  "language_info": {
   "codemirror_mode": {
    "name": "ipython",
    "version": 3
   },
   "file_extension": ".py",
   "mimetype": "text/x-python",
   "name": "python",
   "nbconvert_exporter": "python",
   "pygments_lexer": "ipython3",
   "version": "3.6.3"
  }
 },
 "nbformat": 4,
 "nbformat_minor": 2
}
